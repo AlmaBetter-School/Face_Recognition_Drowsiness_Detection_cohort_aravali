{
  "nbformat": 4,
  "nbformat_minor": 0,
  "metadata": {
    "accelerator": "GPU",
    "colab": {
      "name": "Drowsiness Detection System.ipynb",
      "provenance": [],
      "mount_file_id": "19BPeSiTSwQI7X2NyRg5jC-EkzUJDYzHR",
      "authorship_tag": "ABX9TyN7nvsmV5RD3hjYELx9z3c2",
      "include_colab_link": true
    },
    "kernelspec": {
      "display_name": "Python 3",
      "name": "python3"
    },
    "language_info": {
      "name": "python"
    }
  },
  "cells": [
    {
      "cell_type": "markdown",
      "metadata": {
        "id": "view-in-github",
        "colab_type": "text"
      },
      "source": [
        "<a href=\"https://colab.research.google.com/github/rohandatta/Face_Recognition_Drowsiness_Detection/blob/main/Drowsiness_Detection_System.ipynb\" target=\"_parent\"><img src=\"https://colab.research.google.com/assets/colab-badge.svg\" alt=\"Open In Colab\"/></a>"
      ]
    },
    {
      "cell_type": "markdown",
      "metadata": {
        "id": "YDWTdj0KTSCe"
      },
      "source": [
        "# Let's build a drowsiness detection system"
      ]
    },
    {
      "cell_type": "code",
      "metadata": {
        "id": "xaxKBD74RZDP"
      },
      "source": [
        "import tensorflow as tf\n",
        "import numpy as np\n",
        "from sklearn.model_selection import train_test_split\n",
        "import cv2\n",
        "import matplotlib.pyplot as plt\n",
        "import os\n",
        "from IPython.display import display, Javascript\n",
        "from google.colab.output import eval_js\n",
        "from base64 import b64decode, b64encode\n",
        "from google.colab.patches import cv2_imshow\n",
        "from PIL import Image\n",
        "from datetime import datetime\n",
        "import io\n",
        "import html\n",
        "import time\n",
        "import random\n",
        "import pickle"
      ],
      "execution_count": null,
      "outputs": []
    },
    {
      "cell_type": "code",
      "metadata": {
        "id": "KgHdZQp3bBC6"
      },
      "source": [
        "model = tf.keras.models.load_model('/content/drive/MyDrive/Attendence system and drowsiness alert/model.h5')"
      ],
      "execution_count": null,
      "outputs": []
    },
    {
      "cell_type": "code",
      "metadata": {
        "colab": {
          "base_uri": "https://localhost:8080/"
        },
        "id": "uYG1iMorhjYs",
        "outputId": "4800d54b-d938-437c-cab9-95f7654a30ee"
      },
      "source": [
        "! gdown --id 1RjbqDDgorp1F7FE7vt6S-WGdKAMvAWK_"
      ],
      "execution_count": null,
      "outputs": [
        {
          "output_type": "stream",
          "text": [
            "Downloading...\n",
            "From: https://drive.google.com/uc?id=1RjbqDDgorp1F7FE7vt6S-WGdKAMvAWK_\n",
            "To: /content/haarcascade_frontalface_default.xml\n",
            "\r  0% 0.00/963k [00:00<?, ?B/s]\r100% 963k/963k [00:00<00:00, 85.7MB/s]\n"
          ],
          "name": "stdout"
        }
      ]
    },
    {
      "cell_type": "markdown",
      "metadata": {
        "id": "_NLuwJswVGh4"
      },
      "source": [
        "# Converting training images in the directory into an array for training deep neural network "
      ]
    },
    {
      "cell_type": "code",
      "metadata": {
        "id": "3gNhANFjTRQR"
      },
      "source": [
        "  def get_train_data(work_dir):\n",
        "    classes = ['Closed_eyes', 'Open_eyes']\n",
        "    img_size = 224\n",
        "    train_data = []\n",
        "    for category in classes:\n",
        "      path = os.path.join(work_dir, category)\n",
        "      label = classes.index(category)\n",
        "      for img in os.listdir(path):\n",
        "          img_array = cv2.imread(os.path.join(path,img), cv2.IMREAD_GRAYSCALE)\n",
        "          RGB_img = cv2.cvtColor(img_array, cv2.COLOR_GRAY2RGB)\n",
        "          scale_rgb_img = cv2.resize(RGB_img, (img_size,img_size))\n",
        "          train_data.append([scale_rgb_img, label])\n",
        "\n",
        "    return train_data\n",
        "\n"
      ],
      "execution_count": null,
      "outputs": []
    },
    {
      "cell_type": "code",
      "metadata": {
        "id": "-U0HHtfVssod"
      },
      "source": [
        "file_name = \"drive/MyDrive/Attendence system and drowsiness alert/train_data.pkl\"\n",
        "\n",
        "open_file = open(file_name, \"wb\")\n",
        "pickle.dump(train_data, open_file)\n",
        "\n",
        "open_file.close()"
      ],
      "execution_count": null,
      "outputs": []
    },
    {
      "cell_type": "code",
      "metadata": {
        "id": "OGN8jvNK_d1u"
      },
      "source": [
        "file_name = \"drive/MyDrive/Attendence system and drowsiness alert/train_data.pkl\"\n",
        "open_file = open(file_name, \"rb\")\n",
        "train_data = pickle.load(open_file)\n",
        "open_file.close()"
      ],
      "execution_count": null,
      "outputs": []
    },
    {
      "cell_type": "code",
      "metadata": {
        "id": "wt6k2lRNVaCA"
      },
      "source": [
        "random.shuffle(train_data)"
      ],
      "execution_count": null,
      "outputs": []
    },
    {
      "cell_type": "code",
      "metadata": {
        "id": "D7DQMq8TrgUf"
      },
      "source": [
        "def image_label_split():\n",
        "  img_size = 224\n",
        "  X = []\n",
        "  y = []\n",
        "  for data, label in train_data:\n",
        "    X.append(data)\n",
        "    y.append(label)\n",
        "  X = np.array(X).reshape(-1,img_size, img_size, 3)\n",
        "  X = X/255.0 #normalizing\n",
        "  y = np.array(y)\n",
        "\n",
        "  return X,y"
      ],
      "execution_count": null,
      "outputs": []
    },
    {
      "cell_type": "code",
      "metadata": {
        "id": "0F0MCtiCBrds"
      },
      "source": [
        "X, y = image_label_split()"
      ],
      "execution_count": null,
      "outputs": []
    },
    {
      "cell_type": "code",
      "metadata": {
        "colab": {
          "base_uri": "https://localhost:8080/"
        },
        "id": "HZOEW6utB9jf",
        "outputId": "65d14bf9-8309-4bb4-d3cc-041c80ff4376"
      },
      "source": [
        "X.shape"
      ],
      "execution_count": null,
      "outputs": [
        {
          "output_type": "execute_result",
          "data": {
            "text/plain": [
              "(2553, 224, 224, 3)"
            ]
          },
          "metadata": {
            "tags": []
          },
          "execution_count": 7
        }
      ]
    },
    {
      "cell_type": "code",
      "metadata": {
        "colab": {
          "base_uri": "https://localhost:8080/"
        },
        "id": "8RMC1m-5U3tr",
        "outputId": "880a9528-da6b-49c3-ef18-7b0d2100596e"
      },
      "source": [
        "y.shape"
      ],
      "execution_count": null,
      "outputs": [
        {
          "output_type": "execute_result",
          "data": {
            "text/plain": [
              "(2553,)"
            ]
          },
          "metadata": {
            "tags": []
          },
          "execution_count": 8
        }
      ]
    },
    {
      "cell_type": "markdown",
      "metadata": {
        "id": "MS6NOHLWDnKw"
      },
      "source": [
        "# Transfer Learning "
      ]
    },
    {
      "cell_type": "code",
      "metadata": {
        "colab": {
          "base_uri": "https://localhost:8080/"
        },
        "id": "BWBV4vXYB-3v",
        "outputId": "f9132185-5c53-4043-aed9-59cf4a216cb3"
      },
      "source": [
        "model = tf.keras.applications.mobilenet.MobileNet()"
      ],
      "execution_count": null,
      "outputs": [
        {
          "output_type": "stream",
          "text": [
            "Downloading data from https://storage.googleapis.com/tensorflow/keras-applications/mobilenet/mobilenet_1_0_224_tf.h5\n",
            "17227776/17225924 [==============================] - 0s 0us/step\n"
          ],
          "name": "stdout"
        }
      ]
    },
    {
      "cell_type": "code",
      "metadata": {
        "colab": {
          "base_uri": "https://localhost:8080/"
        },
        "id": "95NYkq4RDyfA",
        "outputId": "07b05c5c-7b5b-45a8-d45b-2887e986b2a2"
      },
      "source": [
        "model.summary()"
      ],
      "execution_count": null,
      "outputs": [
        {
          "output_type": "stream",
          "text": [
            "Model: \"mobilenet_1.00_224\"\n",
            "_________________________________________________________________\n",
            "Layer (type)                 Output Shape              Param #   \n",
            "=================================================================\n",
            "input_1 (InputLayer)         [(None, 224, 224, 3)]     0         \n",
            "_________________________________________________________________\n",
            "conv1 (Conv2D)               (None, 112, 112, 32)      864       \n",
            "_________________________________________________________________\n",
            "conv1_bn (BatchNormalization (None, 112, 112, 32)      128       \n",
            "_________________________________________________________________\n",
            "conv1_relu (ReLU)            (None, 112, 112, 32)      0         \n",
            "_________________________________________________________________\n",
            "conv_dw_1 (DepthwiseConv2D)  (None, 112, 112, 32)      288       \n",
            "_________________________________________________________________\n",
            "conv_dw_1_bn (BatchNormaliza (None, 112, 112, 32)      128       \n",
            "_________________________________________________________________\n",
            "conv_dw_1_relu (ReLU)        (None, 112, 112, 32)      0         \n",
            "_________________________________________________________________\n",
            "conv_pw_1 (Conv2D)           (None, 112, 112, 64)      2048      \n",
            "_________________________________________________________________\n",
            "conv_pw_1_bn (BatchNormaliza (None, 112, 112, 64)      256       \n",
            "_________________________________________________________________\n",
            "conv_pw_1_relu (ReLU)        (None, 112, 112, 64)      0         \n",
            "_________________________________________________________________\n",
            "conv_pad_2 (ZeroPadding2D)   (None, 113, 113, 64)      0         \n",
            "_________________________________________________________________\n",
            "conv_dw_2 (DepthwiseConv2D)  (None, 56, 56, 64)        576       \n",
            "_________________________________________________________________\n",
            "conv_dw_2_bn (BatchNormaliza (None, 56, 56, 64)        256       \n",
            "_________________________________________________________________\n",
            "conv_dw_2_relu (ReLU)        (None, 56, 56, 64)        0         \n",
            "_________________________________________________________________\n",
            "conv_pw_2 (Conv2D)           (None, 56, 56, 128)       8192      \n",
            "_________________________________________________________________\n",
            "conv_pw_2_bn (BatchNormaliza (None, 56, 56, 128)       512       \n",
            "_________________________________________________________________\n",
            "conv_pw_2_relu (ReLU)        (None, 56, 56, 128)       0         \n",
            "_________________________________________________________________\n",
            "conv_dw_3 (DepthwiseConv2D)  (None, 56, 56, 128)       1152      \n",
            "_________________________________________________________________\n",
            "conv_dw_3_bn (BatchNormaliza (None, 56, 56, 128)       512       \n",
            "_________________________________________________________________\n",
            "conv_dw_3_relu (ReLU)        (None, 56, 56, 128)       0         \n",
            "_________________________________________________________________\n",
            "conv_pw_3 (Conv2D)           (None, 56, 56, 128)       16384     \n",
            "_________________________________________________________________\n",
            "conv_pw_3_bn (BatchNormaliza (None, 56, 56, 128)       512       \n",
            "_________________________________________________________________\n",
            "conv_pw_3_relu (ReLU)        (None, 56, 56, 128)       0         \n",
            "_________________________________________________________________\n",
            "conv_pad_4 (ZeroPadding2D)   (None, 57, 57, 128)       0         \n",
            "_________________________________________________________________\n",
            "conv_dw_4 (DepthwiseConv2D)  (None, 28, 28, 128)       1152      \n",
            "_________________________________________________________________\n",
            "conv_dw_4_bn (BatchNormaliza (None, 28, 28, 128)       512       \n",
            "_________________________________________________________________\n",
            "conv_dw_4_relu (ReLU)        (None, 28, 28, 128)       0         \n",
            "_________________________________________________________________\n",
            "conv_pw_4 (Conv2D)           (None, 28, 28, 256)       32768     \n",
            "_________________________________________________________________\n",
            "conv_pw_4_bn (BatchNormaliza (None, 28, 28, 256)       1024      \n",
            "_________________________________________________________________\n",
            "conv_pw_4_relu (ReLU)        (None, 28, 28, 256)       0         \n",
            "_________________________________________________________________\n",
            "conv_dw_5 (DepthwiseConv2D)  (None, 28, 28, 256)       2304      \n",
            "_________________________________________________________________\n",
            "conv_dw_5_bn (BatchNormaliza (None, 28, 28, 256)       1024      \n",
            "_________________________________________________________________\n",
            "conv_dw_5_relu (ReLU)        (None, 28, 28, 256)       0         \n",
            "_________________________________________________________________\n",
            "conv_pw_5 (Conv2D)           (None, 28, 28, 256)       65536     \n",
            "_________________________________________________________________\n",
            "conv_pw_5_bn (BatchNormaliza (None, 28, 28, 256)       1024      \n",
            "_________________________________________________________________\n",
            "conv_pw_5_relu (ReLU)        (None, 28, 28, 256)       0         \n",
            "_________________________________________________________________\n",
            "conv_pad_6 (ZeroPadding2D)   (None, 29, 29, 256)       0         \n",
            "_________________________________________________________________\n",
            "conv_dw_6 (DepthwiseConv2D)  (None, 14, 14, 256)       2304      \n",
            "_________________________________________________________________\n",
            "conv_dw_6_bn (BatchNormaliza (None, 14, 14, 256)       1024      \n",
            "_________________________________________________________________\n",
            "conv_dw_6_relu (ReLU)        (None, 14, 14, 256)       0         \n",
            "_________________________________________________________________\n",
            "conv_pw_6 (Conv2D)           (None, 14, 14, 512)       131072    \n",
            "_________________________________________________________________\n",
            "conv_pw_6_bn (BatchNormaliza (None, 14, 14, 512)       2048      \n",
            "_________________________________________________________________\n",
            "conv_pw_6_relu (ReLU)        (None, 14, 14, 512)       0         \n",
            "_________________________________________________________________\n",
            "conv_dw_7 (DepthwiseConv2D)  (None, 14, 14, 512)       4608      \n",
            "_________________________________________________________________\n",
            "conv_dw_7_bn (BatchNormaliza (None, 14, 14, 512)       2048      \n",
            "_________________________________________________________________\n",
            "conv_dw_7_relu (ReLU)        (None, 14, 14, 512)       0         \n",
            "_________________________________________________________________\n",
            "conv_pw_7 (Conv2D)           (None, 14, 14, 512)       262144    \n",
            "_________________________________________________________________\n",
            "conv_pw_7_bn (BatchNormaliza (None, 14, 14, 512)       2048      \n",
            "_________________________________________________________________\n",
            "conv_pw_7_relu (ReLU)        (None, 14, 14, 512)       0         \n",
            "_________________________________________________________________\n",
            "conv_dw_8 (DepthwiseConv2D)  (None, 14, 14, 512)       4608      \n",
            "_________________________________________________________________\n",
            "conv_dw_8_bn (BatchNormaliza (None, 14, 14, 512)       2048      \n",
            "_________________________________________________________________\n",
            "conv_dw_8_relu (ReLU)        (None, 14, 14, 512)       0         \n",
            "_________________________________________________________________\n",
            "conv_pw_8 (Conv2D)           (None, 14, 14, 512)       262144    \n",
            "_________________________________________________________________\n",
            "conv_pw_8_bn (BatchNormaliza (None, 14, 14, 512)       2048      \n",
            "_________________________________________________________________\n",
            "conv_pw_8_relu (ReLU)        (None, 14, 14, 512)       0         \n",
            "_________________________________________________________________\n",
            "conv_dw_9 (DepthwiseConv2D)  (None, 14, 14, 512)       4608      \n",
            "_________________________________________________________________\n",
            "conv_dw_9_bn (BatchNormaliza (None, 14, 14, 512)       2048      \n",
            "_________________________________________________________________\n",
            "conv_dw_9_relu (ReLU)        (None, 14, 14, 512)       0         \n",
            "_________________________________________________________________\n",
            "conv_pw_9 (Conv2D)           (None, 14, 14, 512)       262144    \n",
            "_________________________________________________________________\n",
            "conv_pw_9_bn (BatchNormaliza (None, 14, 14, 512)       2048      \n",
            "_________________________________________________________________\n",
            "conv_pw_9_relu (ReLU)        (None, 14, 14, 512)       0         \n",
            "_________________________________________________________________\n",
            "conv_dw_10 (DepthwiseConv2D) (None, 14, 14, 512)       4608      \n",
            "_________________________________________________________________\n",
            "conv_dw_10_bn (BatchNormaliz (None, 14, 14, 512)       2048      \n",
            "_________________________________________________________________\n",
            "conv_dw_10_relu (ReLU)       (None, 14, 14, 512)       0         \n",
            "_________________________________________________________________\n",
            "conv_pw_10 (Conv2D)          (None, 14, 14, 512)       262144    \n",
            "_________________________________________________________________\n",
            "conv_pw_10_bn (BatchNormaliz (None, 14, 14, 512)       2048      \n",
            "_________________________________________________________________\n",
            "conv_pw_10_relu (ReLU)       (None, 14, 14, 512)       0         \n",
            "_________________________________________________________________\n",
            "conv_dw_11 (DepthwiseConv2D) (None, 14, 14, 512)       4608      \n",
            "_________________________________________________________________\n",
            "conv_dw_11_bn (BatchNormaliz (None, 14, 14, 512)       2048      \n",
            "_________________________________________________________________\n",
            "conv_dw_11_relu (ReLU)       (None, 14, 14, 512)       0         \n",
            "_________________________________________________________________\n",
            "conv_pw_11 (Conv2D)          (None, 14, 14, 512)       262144    \n",
            "_________________________________________________________________\n",
            "conv_pw_11_bn (BatchNormaliz (None, 14, 14, 512)       2048      \n",
            "_________________________________________________________________\n",
            "conv_pw_11_relu (ReLU)       (None, 14, 14, 512)       0         \n",
            "_________________________________________________________________\n",
            "conv_pad_12 (ZeroPadding2D)  (None, 15, 15, 512)       0         \n",
            "_________________________________________________________________\n",
            "conv_dw_12 (DepthwiseConv2D) (None, 7, 7, 512)         4608      \n",
            "_________________________________________________________________\n",
            "conv_dw_12_bn (BatchNormaliz (None, 7, 7, 512)         2048      \n",
            "_________________________________________________________________\n",
            "conv_dw_12_relu (ReLU)       (None, 7, 7, 512)         0         \n",
            "_________________________________________________________________\n",
            "conv_pw_12 (Conv2D)          (None, 7, 7, 1024)        524288    \n",
            "_________________________________________________________________\n",
            "conv_pw_12_bn (BatchNormaliz (None, 7, 7, 1024)        4096      \n",
            "_________________________________________________________________\n",
            "conv_pw_12_relu (ReLU)       (None, 7, 7, 1024)        0         \n",
            "_________________________________________________________________\n",
            "conv_dw_13 (DepthwiseConv2D) (None, 7, 7, 1024)        9216      \n",
            "_________________________________________________________________\n",
            "conv_dw_13_bn (BatchNormaliz (None, 7, 7, 1024)        4096      \n",
            "_________________________________________________________________\n",
            "conv_dw_13_relu (ReLU)       (None, 7, 7, 1024)        0         \n",
            "_________________________________________________________________\n",
            "conv_pw_13 (Conv2D)          (None, 7, 7, 1024)        1048576   \n",
            "_________________________________________________________________\n",
            "conv_pw_13_bn (BatchNormaliz (None, 7, 7, 1024)        4096      \n",
            "_________________________________________________________________\n",
            "conv_pw_13_relu (ReLU)       (None, 7, 7, 1024)        0         \n",
            "_________________________________________________________________\n",
            "global_average_pooling2d (Gl (None, 1024)              0         \n",
            "_________________________________________________________________\n",
            "reshape_1 (Reshape)          (None, 1, 1, 1024)        0         \n",
            "_________________________________________________________________\n",
            "dropout (Dropout)            (None, 1, 1, 1024)        0         \n",
            "_________________________________________________________________\n",
            "conv_preds (Conv2D)          (None, 1, 1, 1000)        1025000   \n",
            "_________________________________________________________________\n",
            "reshape_2 (Reshape)          (None, 1000)              0         \n",
            "_________________________________________________________________\n",
            "predictions (Activation)     (None, 1000)              0         \n",
            "=================================================================\n",
            "Total params: 4,253,864\n",
            "Trainable params: 4,231,976\n",
            "Non-trainable params: 21,888\n",
            "_________________________________________________________________\n"
          ],
          "name": "stdout"
        }
      ]
    },
    {
      "cell_type": "code",
      "metadata": {
        "id": "m3TVb-oPD-DN"
      },
      "source": [
        "# Using pretained layers from mobilenet\n",
        "base_input = model.layers[0].input     \n",
        "base_output = model.layers[-4].output\n",
        "flat_layer = tf.keras.layers.Flatten()(base_output)\n",
        "final_output = tf.keras.layers.Dense(1)(flat_layer)\n",
        "final_output = tf.keras.layers.Activation('sigmoid')(final_output)"
      ],
      "execution_count": null,
      "outputs": []
    },
    {
      "cell_type": "code",
      "metadata": {
        "id": "NxRdaUxSJ2Ht"
      },
      "source": [
        "# New model\n",
        "new_model = tf.keras.Model(inputs = base_input, outputs = final_output)"
      ],
      "execution_count": null,
      "outputs": []
    },
    {
      "cell_type": "code",
      "metadata": {
        "colab": {
          "base_uri": "https://localhost:8080/"
        },
        "id": "AB3lJLvZKfaO",
        "outputId": "51071849-c9c9-48c5-925d-4fc9f18c8c0e"
      },
      "source": [
        "new_model.summary()"
      ],
      "execution_count": null,
      "outputs": [
        {
          "output_type": "stream",
          "text": [
            "Model: \"model\"\n",
            "_________________________________________________________________\n",
            "Layer (type)                 Output Shape              Param #   \n",
            "=================================================================\n",
            "input_1 (InputLayer)         [(None, 224, 224, 3)]     0         \n",
            "_________________________________________________________________\n",
            "conv1 (Conv2D)               (None, 112, 112, 32)      864       \n",
            "_________________________________________________________________\n",
            "conv1_bn (BatchNormalization (None, 112, 112, 32)      128       \n",
            "_________________________________________________________________\n",
            "conv1_relu (ReLU)            (None, 112, 112, 32)      0         \n",
            "_________________________________________________________________\n",
            "conv_dw_1 (DepthwiseConv2D)  (None, 112, 112, 32)      288       \n",
            "_________________________________________________________________\n",
            "conv_dw_1_bn (BatchNormaliza (None, 112, 112, 32)      128       \n",
            "_________________________________________________________________\n",
            "conv_dw_1_relu (ReLU)        (None, 112, 112, 32)      0         \n",
            "_________________________________________________________________\n",
            "conv_pw_1 (Conv2D)           (None, 112, 112, 64)      2048      \n",
            "_________________________________________________________________\n",
            "conv_pw_1_bn (BatchNormaliza (None, 112, 112, 64)      256       \n",
            "_________________________________________________________________\n",
            "conv_pw_1_relu (ReLU)        (None, 112, 112, 64)      0         \n",
            "_________________________________________________________________\n",
            "conv_pad_2 (ZeroPadding2D)   (None, 113, 113, 64)      0         \n",
            "_________________________________________________________________\n",
            "conv_dw_2 (DepthwiseConv2D)  (None, 56, 56, 64)        576       \n",
            "_________________________________________________________________\n",
            "conv_dw_2_bn (BatchNormaliza (None, 56, 56, 64)        256       \n",
            "_________________________________________________________________\n",
            "conv_dw_2_relu (ReLU)        (None, 56, 56, 64)        0         \n",
            "_________________________________________________________________\n",
            "conv_pw_2 (Conv2D)           (None, 56, 56, 128)       8192      \n",
            "_________________________________________________________________\n",
            "conv_pw_2_bn (BatchNormaliza (None, 56, 56, 128)       512       \n",
            "_________________________________________________________________\n",
            "conv_pw_2_relu (ReLU)        (None, 56, 56, 128)       0         \n",
            "_________________________________________________________________\n",
            "conv_dw_3 (DepthwiseConv2D)  (None, 56, 56, 128)       1152      \n",
            "_________________________________________________________________\n",
            "conv_dw_3_bn (BatchNormaliza (None, 56, 56, 128)       512       \n",
            "_________________________________________________________________\n",
            "conv_dw_3_relu (ReLU)        (None, 56, 56, 128)       0         \n",
            "_________________________________________________________________\n",
            "conv_pw_3 (Conv2D)           (None, 56, 56, 128)       16384     \n",
            "_________________________________________________________________\n",
            "conv_pw_3_bn (BatchNormaliza (None, 56, 56, 128)       512       \n",
            "_________________________________________________________________\n",
            "conv_pw_3_relu (ReLU)        (None, 56, 56, 128)       0         \n",
            "_________________________________________________________________\n",
            "conv_pad_4 (ZeroPadding2D)   (None, 57, 57, 128)       0         \n",
            "_________________________________________________________________\n",
            "conv_dw_4 (DepthwiseConv2D)  (None, 28, 28, 128)       1152      \n",
            "_________________________________________________________________\n",
            "conv_dw_4_bn (BatchNormaliza (None, 28, 28, 128)       512       \n",
            "_________________________________________________________________\n",
            "conv_dw_4_relu (ReLU)        (None, 28, 28, 128)       0         \n",
            "_________________________________________________________________\n",
            "conv_pw_4 (Conv2D)           (None, 28, 28, 256)       32768     \n",
            "_________________________________________________________________\n",
            "conv_pw_4_bn (BatchNormaliza (None, 28, 28, 256)       1024      \n",
            "_________________________________________________________________\n",
            "conv_pw_4_relu (ReLU)        (None, 28, 28, 256)       0         \n",
            "_________________________________________________________________\n",
            "conv_dw_5 (DepthwiseConv2D)  (None, 28, 28, 256)       2304      \n",
            "_________________________________________________________________\n",
            "conv_dw_5_bn (BatchNormaliza (None, 28, 28, 256)       1024      \n",
            "_________________________________________________________________\n",
            "conv_dw_5_relu (ReLU)        (None, 28, 28, 256)       0         \n",
            "_________________________________________________________________\n",
            "conv_pw_5 (Conv2D)           (None, 28, 28, 256)       65536     \n",
            "_________________________________________________________________\n",
            "conv_pw_5_bn (BatchNormaliza (None, 28, 28, 256)       1024      \n",
            "_________________________________________________________________\n",
            "conv_pw_5_relu (ReLU)        (None, 28, 28, 256)       0         \n",
            "_________________________________________________________________\n",
            "conv_pad_6 (ZeroPadding2D)   (None, 29, 29, 256)       0         \n",
            "_________________________________________________________________\n",
            "conv_dw_6 (DepthwiseConv2D)  (None, 14, 14, 256)       2304      \n",
            "_________________________________________________________________\n",
            "conv_dw_6_bn (BatchNormaliza (None, 14, 14, 256)       1024      \n",
            "_________________________________________________________________\n",
            "conv_dw_6_relu (ReLU)        (None, 14, 14, 256)       0         \n",
            "_________________________________________________________________\n",
            "conv_pw_6 (Conv2D)           (None, 14, 14, 512)       131072    \n",
            "_________________________________________________________________\n",
            "conv_pw_6_bn (BatchNormaliza (None, 14, 14, 512)       2048      \n",
            "_________________________________________________________________\n",
            "conv_pw_6_relu (ReLU)        (None, 14, 14, 512)       0         \n",
            "_________________________________________________________________\n",
            "conv_dw_7 (DepthwiseConv2D)  (None, 14, 14, 512)       4608      \n",
            "_________________________________________________________________\n",
            "conv_dw_7_bn (BatchNormaliza (None, 14, 14, 512)       2048      \n",
            "_________________________________________________________________\n",
            "conv_dw_7_relu (ReLU)        (None, 14, 14, 512)       0         \n",
            "_________________________________________________________________\n",
            "conv_pw_7 (Conv2D)           (None, 14, 14, 512)       262144    \n",
            "_________________________________________________________________\n",
            "conv_pw_7_bn (BatchNormaliza (None, 14, 14, 512)       2048      \n",
            "_________________________________________________________________\n",
            "conv_pw_7_relu (ReLU)        (None, 14, 14, 512)       0         \n",
            "_________________________________________________________________\n",
            "conv_dw_8 (DepthwiseConv2D)  (None, 14, 14, 512)       4608      \n",
            "_________________________________________________________________\n",
            "conv_dw_8_bn (BatchNormaliza (None, 14, 14, 512)       2048      \n",
            "_________________________________________________________________\n",
            "conv_dw_8_relu (ReLU)        (None, 14, 14, 512)       0         \n",
            "_________________________________________________________________\n",
            "conv_pw_8 (Conv2D)           (None, 14, 14, 512)       262144    \n",
            "_________________________________________________________________\n",
            "conv_pw_8_bn (BatchNormaliza (None, 14, 14, 512)       2048      \n",
            "_________________________________________________________________\n",
            "conv_pw_8_relu (ReLU)        (None, 14, 14, 512)       0         \n",
            "_________________________________________________________________\n",
            "conv_dw_9 (DepthwiseConv2D)  (None, 14, 14, 512)       4608      \n",
            "_________________________________________________________________\n",
            "conv_dw_9_bn (BatchNormaliza (None, 14, 14, 512)       2048      \n",
            "_________________________________________________________________\n",
            "conv_dw_9_relu (ReLU)        (None, 14, 14, 512)       0         \n",
            "_________________________________________________________________\n",
            "conv_pw_9 (Conv2D)           (None, 14, 14, 512)       262144    \n",
            "_________________________________________________________________\n",
            "conv_pw_9_bn (BatchNormaliza (None, 14, 14, 512)       2048      \n",
            "_________________________________________________________________\n",
            "conv_pw_9_relu (ReLU)        (None, 14, 14, 512)       0         \n",
            "_________________________________________________________________\n",
            "conv_dw_10 (DepthwiseConv2D) (None, 14, 14, 512)       4608      \n",
            "_________________________________________________________________\n",
            "conv_dw_10_bn (BatchNormaliz (None, 14, 14, 512)       2048      \n",
            "_________________________________________________________________\n",
            "conv_dw_10_relu (ReLU)       (None, 14, 14, 512)       0         \n",
            "_________________________________________________________________\n",
            "conv_pw_10 (Conv2D)          (None, 14, 14, 512)       262144    \n",
            "_________________________________________________________________\n",
            "conv_pw_10_bn (BatchNormaliz (None, 14, 14, 512)       2048      \n",
            "_________________________________________________________________\n",
            "conv_pw_10_relu (ReLU)       (None, 14, 14, 512)       0         \n",
            "_________________________________________________________________\n",
            "conv_dw_11 (DepthwiseConv2D) (None, 14, 14, 512)       4608      \n",
            "_________________________________________________________________\n",
            "conv_dw_11_bn (BatchNormaliz (None, 14, 14, 512)       2048      \n",
            "_________________________________________________________________\n",
            "conv_dw_11_relu (ReLU)       (None, 14, 14, 512)       0         \n",
            "_________________________________________________________________\n",
            "conv_pw_11 (Conv2D)          (None, 14, 14, 512)       262144    \n",
            "_________________________________________________________________\n",
            "conv_pw_11_bn (BatchNormaliz (None, 14, 14, 512)       2048      \n",
            "_________________________________________________________________\n",
            "conv_pw_11_relu (ReLU)       (None, 14, 14, 512)       0         \n",
            "_________________________________________________________________\n",
            "conv_pad_12 (ZeroPadding2D)  (None, 15, 15, 512)       0         \n",
            "_________________________________________________________________\n",
            "conv_dw_12 (DepthwiseConv2D) (None, 7, 7, 512)         4608      \n",
            "_________________________________________________________________\n",
            "conv_dw_12_bn (BatchNormaliz (None, 7, 7, 512)         2048      \n",
            "_________________________________________________________________\n",
            "conv_dw_12_relu (ReLU)       (None, 7, 7, 512)         0         \n",
            "_________________________________________________________________\n",
            "conv_pw_12 (Conv2D)          (None, 7, 7, 1024)        524288    \n",
            "_________________________________________________________________\n",
            "conv_pw_12_bn (BatchNormaliz (None, 7, 7, 1024)        4096      \n",
            "_________________________________________________________________\n",
            "conv_pw_12_relu (ReLU)       (None, 7, 7, 1024)        0         \n",
            "_________________________________________________________________\n",
            "conv_dw_13 (DepthwiseConv2D) (None, 7, 7, 1024)        9216      \n",
            "_________________________________________________________________\n",
            "conv_dw_13_bn (BatchNormaliz (None, 7, 7, 1024)        4096      \n",
            "_________________________________________________________________\n",
            "conv_dw_13_relu (ReLU)       (None, 7, 7, 1024)        0         \n",
            "_________________________________________________________________\n",
            "conv_pw_13 (Conv2D)          (None, 7, 7, 1024)        1048576   \n",
            "_________________________________________________________________\n",
            "conv_pw_13_bn (BatchNormaliz (None, 7, 7, 1024)        4096      \n",
            "_________________________________________________________________\n",
            "conv_pw_13_relu (ReLU)       (None, 7, 7, 1024)        0         \n",
            "_________________________________________________________________\n",
            "global_average_pooling2d (Gl (None, 1024)              0         \n",
            "_________________________________________________________________\n",
            "reshape_1 (Reshape)          (None, 1, 1, 1024)        0         \n",
            "_________________________________________________________________\n",
            "dropout (Dropout)            (None, 1, 1, 1024)        0         \n",
            "_________________________________________________________________\n",
            "flatten (Flatten)            (None, 1024)              0         \n",
            "_________________________________________________________________\n",
            "dense (Dense)                (None, 1)                 1025      \n",
            "_________________________________________________________________\n",
            "activation (Activation)      (None, 1)                 0         \n",
            "=================================================================\n",
            "Total params: 3,229,889\n",
            "Trainable params: 3,208,001\n",
            "Non-trainable params: 21,888\n",
            "_________________________________________________________________\n"
          ],
          "name": "stdout"
        }
      ]
    },
    {
      "cell_type": "markdown",
      "metadata": {
        "id": "UmV2cwEeLAV9"
      },
      "source": [
        "# Let's train this new model with our train data"
      ]
    },
    {
      "cell_type": "code",
      "metadata": {
        "id": "z2EHjVpuKh01"
      },
      "source": [
        "new_model.compile(loss = 'binary_crossentropy', optimizer= 'adam', metrics= ['accuracy']) "
      ],
      "execution_count": null,
      "outputs": []
    },
    {
      "cell_type": "code",
      "metadata": {
        "colab": {
          "base_uri": "https://localhost:8080/"
        },
        "id": "dHuyRVI5NPcZ",
        "outputId": "188868e1-fa7a-4487-b7f8-b1d4427c788f"
      },
      "source": [
        "new_model.fit(X, y, epochs = 10, verbose = 2, validation_split = 0.3 )"
      ],
      "execution_count": null,
      "outputs": [
        {
          "output_type": "stream",
          "text": [
            "Epoch 1/10\n",
            "56/56 - 47s - loss: 0.1767 - accuracy: 0.9463 - val_loss: 3.7157 - val_accuracy: 0.5809\n",
            "Epoch 2/10\n",
            "56/56 - 10s - loss: 0.0409 - accuracy: 0.9860 - val_loss: 0.2161 - val_accuracy: 0.9191\n",
            "Epoch 3/10\n",
            "56/56 - 10s - loss: 0.0117 - accuracy: 0.9972 - val_loss: 0.0761 - val_accuracy: 0.9726\n",
            "Epoch 4/10\n",
            "56/56 - 11s - loss: 0.0280 - accuracy: 0.9910 - val_loss: 1.9192 - val_accuracy: 0.8107\n",
            "Epoch 5/10\n",
            "56/56 - 11s - loss: 0.0233 - accuracy: 0.9938 - val_loss: 1.3485 - val_accuracy: 0.6984\n",
            "Epoch 6/10\n",
            "56/56 - 11s - loss: 0.0098 - accuracy: 0.9978 - val_loss: 0.0413 - val_accuracy: 0.9909\n",
            "Epoch 7/10\n",
            "56/56 - 11s - loss: 0.0066 - accuracy: 0.9989 - val_loss: 0.1050 - val_accuracy: 0.9700\n",
            "Epoch 8/10\n",
            "56/56 - 11s - loss: 0.0035 - accuracy: 0.9983 - val_loss: 0.2024 - val_accuracy: 0.9569\n",
            "Epoch 9/10\n",
            "56/56 - 11s - loss: 8.2357e-04 - accuracy: 1.0000 - val_loss: 0.0799 - val_accuracy: 0.9804\n",
            "Epoch 10/10\n",
            "56/56 - 11s - loss: 4.7270e-04 - accuracy: 1.0000 - val_loss: 0.0490 - val_accuracy: 0.9909\n"
          ],
          "name": "stdout"
        },
        {
          "output_type": "execute_result",
          "data": {
            "text/plain": [
              "<tensorflow.python.keras.callbacks.History at 0x7fee80079090>"
            ]
          },
          "metadata": {
            "tags": []
          },
          "execution_count": 15
        }
      ]
    },
    {
      "cell_type": "code",
      "metadata": {
        "id": "teilmYFiOMuR"
      },
      "source": [
        "new_model.save('/content/drive/MyDrive/Attendence system and drowsiness alert/model.h5')"
      ],
      "execution_count": null,
      "outputs": []
    },
    {
      "cell_type": "markdown",
      "metadata": {
        "id": "ZlhCq4VFvgGu"
      },
      "source": [
        "# Let's check on unknown images"
      ]
    },
    {
      "cell_type": "code",
      "metadata": {
        "id": "j-ra0ALCzp62"
      },
      "source": [
        "def detect_eyes(image_path):\n",
        "  eyes_cascade = cv2.CascadeClassifier('/content/drive/MyDrive/Attendence system and drowsiness alert/haarcascade_eye.xml')\n",
        "  img = cv2.imread(image_path)\n",
        "  gray = cv2.cvtColor(img, cv2.COLOR_BGR2GRAY)\n",
        "  eyes = eyes_cascade.detectMultiScale(gray, 1.1, 4)\n",
        "  \n",
        "  if len(eyes) == 0:\n",
        "    print('No eyes detected')\n",
        "  else :\n",
        "    for x,y,w,h in eyes:\n",
        "      cv2.rectangle(img,(x,y),(x+w,y+h),(0,255,0),2)\n",
        "      roigray = gray[y:y+h, x:x+w]\n",
        "      roicolor = img[y:y+h, x:x+w]\n",
        "      # cv2.imwrite(str(i) + '.jpg', img[y:y+h,x:x+w])\n",
        "\n",
        "  plt.grid(None)   \n",
        "  plt.xticks([])\n",
        "  plt.yticks([])\n",
        "  imgplot = plt.imshow(img[:,:,[2,1,0]])\n",
        "  return eyes\n",
        "\n"
      ],
      "execution_count": null,
      "outputs": []
    },
    {
      "cell_type": "code",
      "metadata": {
        "colab": {
          "base_uri": "https://localhost:8080/",
          "height": 252
        },
        "id": "q2DehbuRAFdx",
        "outputId": "8af78432-b42a-4e60-f2ca-70fc5311535f"
      },
      "source": [
        "eye = detect_eyes('/content/drive/MyDrive/Attendence system and drowsiness alert/front-portrait-woman-beauty-face-isolated-closed-eye-165392211.jpg')"
      ],
      "execution_count": null,
      "outputs": [
        {
          "output_type": "display_data",
          "data": {
            "image/png": "[encoded data removed]",
            "text/plain": [
              "<Figure size 432x288 with 1 Axes>"
            ]
          },
          "metadata": {
            "tags": []
          }
        }
      ]
    },
    {
      "cell_type": "code",
      "metadata": {
        "id": "XMvMX0zZgg1g"
      },
      "source": [
        "def crop_eye(image_path):\n",
        "  eyes_cascade = cv2.CascadeClassifier('/content/drive/MyDrive/Attendence system and drowsiness alert/haarcascade_eye.xml')\n",
        "  img = cv2.imread(image_path)\n",
        "  gray = cv2.cvtColor(img, cv2.COLOR_BGR2GRAY)\n",
        "  eyes = eyes_cascade.detectMultiScale(gray, 1.1, 4)\n",
        "  if len(eyes) == 0:\n",
        "    print('No eyes detected')\n",
        "  else:\n",
        "    for x,y,w,h in eyes:\n",
        "      roigray = gray[y:y+h, x:x+w]\n",
        "      roicolor = img[y:y+h, x:x+w]\n",
        "\n",
        "      return roicolor"
      ],
      "execution_count": null,
      "outputs": []
    },
    {
      "cell_type": "code",
      "metadata": {
        "id": "O1F2Q8mdhM5X"
      },
      "source": [
        "eye = crop_eye('/content/drive/MyDrive/Attendence system and drowsiness alert/KnownFaces/Sudhanshu.png')"
      ],
      "execution_count": null,
      "outputs": []
    },
    {
      "cell_type": "code",
      "metadata": {
        "colab": {
          "base_uri": "https://localhost:8080/"
        },
        "id": "2eASqeHDMapC",
        "outputId": "eac19adb-7a73-4bc6-f190-e44c94de9362"
      },
      "source": [
        "eye.shape"
      ],
      "execution_count": null,
      "outputs": [
        {
          "output_type": "execute_result",
          "data": {
            "text/plain": [
              "(42, 42, 3)"
            ]
          },
          "metadata": {
            "tags": []
          },
          "execution_count": 89
        }
      ]
    },
    {
      "cell_type": "code",
      "metadata": {
        "id": "9idg78b5VnY6"
      },
      "source": [
        "# resize\n",
        "eye = cv2.resize(eye, (224,224))\n",
        "eye = np.expand_dims(eye, axis = 0)\n",
        "eye = eye/255.0"
      ],
      "execution_count": null,
      "outputs": []
    },
    {
      "cell_type": "code",
      "metadata": {
        "colab": {
          "base_uri": "https://localhost:8080/"
        },
        "id": "tdM9CdHxYvrp",
        "outputId": "5dd802e2-84ff-4c6d-83d0-6cb521663f9f"
      },
      "source": [
        "model.predict(eye)"
      ],
      "execution_count": null,
      "outputs": [
        {
          "output_type": "execute_result",
          "data": {
            "text/plain": [
              "array([[0.99987423]], dtype=float32)"
            ]
          },
          "metadata": {
            "tags": []
          },
          "execution_count": 91
        }
      ]
    },
    {
      "cell_type": "code",
      "metadata": {
        "id": "9LkmjF3TVX60",
        "colab": {
          "base_uri": "https://localhost:8080/"
        },
        "outputId": "047874e3-6313-4244-8386-a07524a8052a"
      },
      "source": [
        "model.summary()"
      ],
      "execution_count": null,
      "outputs": [
        {
          "output_type": "stream",
          "text": [
            "Model: \"model\"\n",
            "_________________________________________________________________\n",
            "Layer (type)                 Output Shape              Param #   \n",
            "=================================================================\n",
            "input_1 (InputLayer)         [(None, 224, 224, 3)]     0         \n",
            "_________________________________________________________________\n",
            "conv1 (Conv2D)               (None, 112, 112, 32)      864       \n",
            "_________________________________________________________________\n",
            "conv1_bn (BatchNormalization (None, 112, 112, 32)      128       \n",
            "_________________________________________________________________\n",
            "conv1_relu (ReLU)            (None, 112, 112, 32)      0         \n",
            "_________________________________________________________________\n",
            "conv_dw_1 (DepthwiseConv2D)  (None, 112, 112, 32)      288       \n",
            "_________________________________________________________________\n",
            "conv_dw_1_bn (BatchNormaliza (None, 112, 112, 32)      128       \n",
            "_________________________________________________________________\n",
            "conv_dw_1_relu (ReLU)        (None, 112, 112, 32)      0         \n",
            "_________________________________________________________________\n",
            "conv_pw_1 (Conv2D)           (None, 112, 112, 64)      2048      \n",
            "_________________________________________________________________\n",
            "conv_pw_1_bn (BatchNormaliza (None, 112, 112, 64)      256       \n",
            "_________________________________________________________________\n",
            "conv_pw_1_relu (ReLU)        (None, 112, 112, 64)      0         \n",
            "_________________________________________________________________\n",
            "conv_pad_2 (ZeroPadding2D)   (None, 113, 113, 64)      0         \n",
            "_________________________________________________________________\n",
            "conv_dw_2 (DepthwiseConv2D)  (None, 56, 56, 64)        576       \n",
            "_________________________________________________________________\n",
            "conv_dw_2_bn (BatchNormaliza (None, 56, 56, 64)        256       \n",
            "_________________________________________________________________\n",
            "conv_dw_2_relu (ReLU)        (None, 56, 56, 64)        0         \n",
            "_________________________________________________________________\n",
            "conv_pw_2 (Conv2D)           (None, 56, 56, 128)       8192      \n",
            "_________________________________________________________________\n",
            "conv_pw_2_bn (BatchNormaliza (None, 56, 56, 128)       512       \n",
            "_________________________________________________________________\n",
            "conv_pw_2_relu (ReLU)        (None, 56, 56, 128)       0         \n",
            "_________________________________________________________________\n",
            "conv_dw_3 (DepthwiseConv2D)  (None, 56, 56, 128)       1152      \n",
            "_________________________________________________________________\n",
            "conv_dw_3_bn (BatchNormaliza (None, 56, 56, 128)       512       \n",
            "_________________________________________________________________\n",
            "conv_dw_3_relu (ReLU)        (None, 56, 56, 128)       0         \n",
            "_________________________________________________________________\n",
            "conv_pw_3 (Conv2D)           (None, 56, 56, 128)       16384     \n",
            "_________________________________________________________________\n",
            "conv_pw_3_bn (BatchNormaliza (None, 56, 56, 128)       512       \n",
            "_________________________________________________________________\n",
            "conv_pw_3_relu (ReLU)        (None, 56, 56, 128)       0         \n",
            "_________________________________________________________________\n",
            "conv_pad_4 (ZeroPadding2D)   (None, 57, 57, 128)       0         \n",
            "_________________________________________________________________\n",
            "conv_dw_4 (DepthwiseConv2D)  (None, 28, 28, 128)       1152      \n",
            "_________________________________________________________________\n",
            "conv_dw_4_bn (BatchNormaliza (None, 28, 28, 128)       512       \n",
            "_________________________________________________________________\n",
            "conv_dw_4_relu (ReLU)        (None, 28, 28, 128)       0         \n",
            "_________________________________________________________________\n",
            "conv_pw_4 (Conv2D)           (None, 28, 28, 256)       32768     \n",
            "_________________________________________________________________\n",
            "conv_pw_4_bn (BatchNormaliza (None, 28, 28, 256)       1024      \n",
            "_________________________________________________________________\n",
            "conv_pw_4_relu (ReLU)        (None, 28, 28, 256)       0         \n",
            "_________________________________________________________________\n",
            "conv_dw_5 (DepthwiseConv2D)  (None, 28, 28, 256)       2304      \n",
            "_________________________________________________________________\n",
            "conv_dw_5_bn (BatchNormaliza (None, 28, 28, 256)       1024      \n",
            "_________________________________________________________________\n",
            "conv_dw_5_relu (ReLU)        (None, 28, 28, 256)       0         \n",
            "_________________________________________________________________\n",
            "conv_pw_5 (Conv2D)           (None, 28, 28, 256)       65536     \n",
            "_________________________________________________________________\n",
            "conv_pw_5_bn (BatchNormaliza (None, 28, 28, 256)       1024      \n",
            "_________________________________________________________________\n",
            "conv_pw_5_relu (ReLU)        (None, 28, 28, 256)       0         \n",
            "_________________________________________________________________\n",
            "conv_pad_6 (ZeroPadding2D)   (None, 29, 29, 256)       0         \n",
            "_________________________________________________________________\n",
            "conv_dw_6 (DepthwiseConv2D)  (None, 14, 14, 256)       2304      \n",
            "_________________________________________________________________\n",
            "conv_dw_6_bn (BatchNormaliza (None, 14, 14, 256)       1024      \n",
            "_________________________________________________________________\n",
            "conv_dw_6_relu (ReLU)        (None, 14, 14, 256)       0         \n",
            "_________________________________________________________________\n",
            "conv_pw_6 (Conv2D)           (None, 14, 14, 512)       131072    \n",
            "_________________________________________________________________\n",
            "conv_pw_6_bn (BatchNormaliza (None, 14, 14, 512)       2048      \n",
            "_________________________________________________________________\n",
            "conv_pw_6_relu (ReLU)        (None, 14, 14, 512)       0         \n",
            "_________________________________________________________________\n",
            "conv_dw_7 (DepthwiseConv2D)  (None, 14, 14, 512)       4608      \n",
            "_________________________________________________________________\n",
            "conv_dw_7_bn (BatchNormaliza (None, 14, 14, 512)       2048      \n",
            "_________________________________________________________________\n",
            "conv_dw_7_relu (ReLU)        (None, 14, 14, 512)       0         \n",
            "_________________________________________________________________\n",
            "conv_pw_7 (Conv2D)           (None, 14, 14, 512)       262144    \n",
            "_________________________________________________________________\n",
            "conv_pw_7_bn (BatchNormaliza (None, 14, 14, 512)       2048      \n",
            "_________________________________________________________________\n",
            "conv_pw_7_relu (ReLU)        (None, 14, 14, 512)       0         \n",
            "_________________________________________________________________\n",
            "conv_dw_8 (DepthwiseConv2D)  (None, 14, 14, 512)       4608      \n",
            "_________________________________________________________________\n",
            "conv_dw_8_bn (BatchNormaliza (None, 14, 14, 512)       2048      \n",
            "_________________________________________________________________\n",
            "conv_dw_8_relu (ReLU)        (None, 14, 14, 512)       0         \n",
            "_________________________________________________________________\n",
            "conv_pw_8 (Conv2D)           (None, 14, 14, 512)       262144    \n",
            "_________________________________________________________________\n",
            "conv_pw_8_bn (BatchNormaliza (None, 14, 14, 512)       2048      \n",
            "_________________________________________________________________\n",
            "conv_pw_8_relu (ReLU)        (None, 14, 14, 512)       0         \n",
            "_________________________________________________________________\n",
            "conv_dw_9 (DepthwiseConv2D)  (None, 14, 14, 512)       4608      \n",
            "_________________________________________________________________\n",
            "conv_dw_9_bn (BatchNormaliza (None, 14, 14, 512)       2048      \n",
            "_________________________________________________________________\n",
            "conv_dw_9_relu (ReLU)        (None, 14, 14, 512)       0         \n",
            "_________________________________________________________________\n",
            "conv_pw_9 (Conv2D)           (None, 14, 14, 512)       262144    \n",
            "_________________________________________________________________\n",
            "conv_pw_9_bn (BatchNormaliza (None, 14, 14, 512)       2048      \n",
            "_________________________________________________________________\n",
            "conv_pw_9_relu (ReLU)        (None, 14, 14, 512)       0         \n",
            "_________________________________________________________________\n",
            "conv_dw_10 (DepthwiseConv2D) (None, 14, 14, 512)       4608      \n",
            "_________________________________________________________________\n",
            "conv_dw_10_bn (BatchNormaliz (None, 14, 14, 512)       2048      \n",
            "_________________________________________________________________\n",
            "conv_dw_10_relu (ReLU)       (None, 14, 14, 512)       0         \n",
            "_________________________________________________________________\n",
            "conv_pw_10 (Conv2D)          (None, 14, 14, 512)       262144    \n",
            "_________________________________________________________________\n",
            "conv_pw_10_bn (BatchNormaliz (None, 14, 14, 512)       2048      \n",
            "_________________________________________________________________\n",
            "conv_pw_10_relu (ReLU)       (None, 14, 14, 512)       0         \n",
            "_________________________________________________________________\n",
            "conv_dw_11 (DepthwiseConv2D) (None, 14, 14, 512)       4608      \n",
            "_________________________________________________________________\n",
            "conv_dw_11_bn (BatchNormaliz (None, 14, 14, 512)       2048      \n",
            "_________________________________________________________________\n",
            "conv_dw_11_relu (ReLU)       (None, 14, 14, 512)       0         \n",
            "_________________________________________________________________\n",
            "conv_pw_11 (Conv2D)          (None, 14, 14, 512)       262144    \n",
            "_________________________________________________________________\n",
            "conv_pw_11_bn (BatchNormaliz (None, 14, 14, 512)       2048      \n",
            "_________________________________________________________________\n",
            "conv_pw_11_relu (ReLU)       (None, 14, 14, 512)       0         \n",
            "_________________________________________________________________\n",
            "conv_pad_12 (ZeroPadding2D)  (None, 15, 15, 512)       0         \n",
            "_________________________________________________________________\n",
            "conv_dw_12 (DepthwiseConv2D) (None, 7, 7, 512)         4608      \n",
            "_________________________________________________________________\n",
            "conv_dw_12_bn (BatchNormaliz (None, 7, 7, 512)         2048      \n",
            "_________________________________________________________________\n",
            "conv_dw_12_relu (ReLU)       (None, 7, 7, 512)         0         \n",
            "_________________________________________________________________\n",
            "conv_pw_12 (Conv2D)          (None, 7, 7, 1024)        524288    \n",
            "_________________________________________________________________\n",
            "conv_pw_12_bn (BatchNormaliz (None, 7, 7, 1024)        4096      \n",
            "_________________________________________________________________\n",
            "conv_pw_12_relu (ReLU)       (None, 7, 7, 1024)        0         \n",
            "_________________________________________________________________\n",
            "conv_dw_13 (DepthwiseConv2D) (None, 7, 7, 1024)        9216      \n",
            "_________________________________________________________________\n",
            "conv_dw_13_bn (BatchNormaliz (None, 7, 7, 1024)        4096      \n",
            "_________________________________________________________________\n",
            "conv_dw_13_relu (ReLU)       (None, 7, 7, 1024)        0         \n",
            "_________________________________________________________________\n",
            "conv_pw_13 (Conv2D)          (None, 7, 7, 1024)        1048576   \n",
            "_________________________________________________________________\n",
            "conv_pw_13_bn (BatchNormaliz (None, 7, 7, 1024)        4096      \n",
            "_________________________________________________________________\n",
            "conv_pw_13_relu (ReLU)       (None, 7, 7, 1024)        0         \n",
            "_________________________________________________________________\n",
            "global_average_pooling2d (Gl (None, 1024)              0         \n",
            "_________________________________________________________________\n",
            "reshape_1 (Reshape)          (None, 1, 1, 1024)        0         \n",
            "_________________________________________________________________\n",
            "dropout (Dropout)            (None, 1, 1, 1024)        0         \n",
            "_________________________________________________________________\n",
            "flatten (Flatten)            (None, 1024)              0         \n",
            "_________________________________________________________________\n",
            "dense (Dense)                (None, 1)                 1025      \n",
            "_________________________________________________________________\n",
            "activation (Activation)      (None, 1)                 0         \n",
            "=================================================================\n",
            "Total params: 3,229,889\n",
            "Trainable params: 3,208,001\n",
            "Non-trainable params: 21,888\n",
            "_________________________________________________________________\n"
          ],
          "name": "stdout"
        }
      ]
    },
    {
      "cell_type": "code",
      "metadata": {
        "colab": {
          "base_uri": "https://localhost:8080/"
        },
        "id": "o_poDRm0pDnR",
        "outputId": "15eb5606-9315-41a2-b495-4c29ea55d82f"
      },
      "source": [
        "img.shape"
      ],
      "execution_count": null,
      "outputs": [
        {
          "output_type": "execute_result",
          "data": {
            "text/plain": [
              "(42, 42, 3)"
            ]
          },
          "metadata": {
            "tags": []
          },
          "execution_count": 25
        }
      ]
    },
    {
      "cell_type": "code",
      "metadata": {
        "colab": {
          "base_uri": "https://localhost:8080/"
        },
        "id": "ohhKZZwAnh6G",
        "outputId": "0de91ae7-bff4-4342-9917-bc11810aefdf"
      },
      "source": [
        "# img = cv2.imread('/content/0.jpg')\n",
        "img = Image.open('/content/0.jpg')\n",
        "img = img.resize((224,224))\n",
        "img = np.array(img)\n",
        "img = img.reshape((-1,224,224,3))\n",
        "model.predict(img)"
      ],
      "execution_count": null,
      "outputs": [
        {
          "output_type": "execute_result",
          "data": {
            "text/plain": [
              "array([[0.07949574]], dtype=float32)"
            ]
          },
          "metadata": {
            "tags": []
          },
          "execution_count": 29
        }
      ]
    },
    {
      "cell_type": "code",
      "metadata": {
        "id": "VtgL8dxO0Jxq"
      },
      "source": [
        "img = cv2.imread('/content/drive/MyDrive/Attendence system and drowsiness alert/download.jpg')\n",
        "img.shape"
      ],
      "execution_count": null,
      "outputs": []
    },
    {
      "cell_type": "code",
      "metadata": {
        "id": "BJCidtZG1t7y"
      },
      "source": [
        "model = tf.keras.models.load_model('/content/drive/MyDrive/Attendence system and drowsiness alert/model.h5')"
      ],
      "execution_count": null,
      "outputs": []
    },
    {
      "cell_type": "code",
      "metadata": {
        "id": "B4KPE-tWMmen"
      },
      "source": [
        "class face_identifier:\n",
        "\n",
        "  def __init__(self, path, model):\n",
        "    self.path = path\n",
        "    self.images = []\n",
        "    self.names = []\n",
        "    self.model = model\n",
        "\n",
        "    mylist = os.listdir(path)\n",
        "    for img in mylist:\n",
        "      cur_img = cv2.imread(f'{path}/{img}')\n",
        "      self.images.append(cur_img)\n",
        "      self.names.append(os.path.splitext(img)[0])\n",
        "    \n",
        "    \n",
        "\n",
        "  # function to convert the JavaScript object into an OpenCV image\n",
        "  def js_to_image(self,js_reply):\n",
        "    \"\"\"\n",
        "    Params:\n",
        "            js_reply: JavaScript object containing image from webcam\n",
        "    Returns:\n",
        "            img: OpenCV BGR image\n",
        "    \"\"\"\n",
        "    # decode base64 image\n",
        "    image_bytes = b64decode(js_reply.split(',')[1])\n",
        "    # convert bytes to numpy array\n",
        "    jpg_as_np = np.frombuffer(image_bytes, dtype=np.uint8)\n",
        "    # decode numpy array into OpenCV BGR image\n",
        "    img = cv2.imdecode(jpg_as_np, flags=1)\n",
        "\n",
        "    return img\n",
        "\n",
        "  # function to convert OpenCV Rectangle bounding box image into base64 byte string to be overlayed on video stream\n",
        "  def bbox_to_bytes(self,bbox_array):\n",
        "    \"\"\"\n",
        "    Params:\n",
        "            bbox_array: Numpy array (pixels) containing rectangle to overlay on video stream.\n",
        "    Returns:\n",
        "          bytes: Base64 image byte string\n",
        "    \"\"\"\n",
        "    # convert array into PIL image\n",
        "    bbox_PIL = Image.fromarray(bbox_array, 'RGBA')\n",
        "    iobuf = io.BytesIO()\n",
        "    # format bbox into png for return\n",
        "    bbox_PIL.save(iobuf, format='png')\n",
        "    # format return string\n",
        "    bbox_bytes = 'data:image/png;base64,{}'.format((str(b64encode(iobuf.getvalue()), 'utf-8')))\n",
        "\n",
        "    return bbox_bytes\n",
        "\n",
        "  def crop_eyes(self,img):\n",
        "      eyes_cascade = cv2.CascadeClassifier('/content/drive/MyDrive/Attendence system and drowsiness alert/haarcascade_eye.xml')\n",
        "      gray = cv2.cvtColor(img, cv2.COLOR_BGR2GRAY)\n",
        "      eye_loc = eyes_cascade.detectMultiScale(gray, 1.1, 4)\n",
        "      \n",
        "      for x,y,w,h in eye_loc:\n",
        "        roigray = gray[y:y+h, x:x+w]\n",
        "        roicolor = img[y:y+h, x:x+w]\n",
        "\n",
        "        return roicolor\n",
        "      \n",
        "  def eye_detector(self,img):\n",
        "    # img = cv2.imread(image)\n",
        "    gray = cv2.cvtColor(img, cv2.COLOR_BGR2GRAY)\n",
        "    eyes_cascade = cv2.CascadeClassifier('/content/drive/MyDrive/Attendence system and drowsiness alert/haarcascade_eye.xml')\n",
        "    eye_loc = eyes_cascade.detectMultiScale(gray, 1.1, 4)\n",
        "\n",
        "    return eye_loc\n",
        "\n",
        "    \n",
        "\n",
        "  # JavaScript to properly create our live video stream using our webcam as input\n",
        "  def video_stream(self):\n",
        "    js = Javascript('''\n",
        "      var video;\n",
        "      var div = null;\n",
        "      var stream;\n",
        "      var captureCanvas;\n",
        "      var imgElement;\n",
        "      var labelElement;\n",
        "      \n",
        "      var pendingResolve = null;\n",
        "      var shutdown = false;\n",
        "      \n",
        "      function removeDom() {\n",
        "        stream.getVideoTracks()[0].stop();\n",
        "        video.remove();\n",
        "        div.remove();\n",
        "        video = null;\n",
        "        div = null;\n",
        "        stream = null;\n",
        "        imgElement = null;\n",
        "        captureCanvas = null;\n",
        "        labelElement = null;\n",
        "      }\n",
        "      \n",
        "      function onAnimationFrame() {\n",
        "        if (!shutdown) {\n",
        "          window.requestAnimationFrame(onAnimationFrame);\n",
        "        }\n",
        "        if (pendingResolve) {\n",
        "          var result = \"\";\n",
        "          if (!shutdown) {\n",
        "            captureCanvas.getContext('2d').drawImage(video, 0, 0, 640, 480);\n",
        "            result = captureCanvas.toDataURL('image/jpeg', 0.8)\n",
        "          }\n",
        "          var lp = pendingResolve;\n",
        "          pendingResolve = null;\n",
        "          lp(result);\n",
        "        }\n",
        "      }\n",
        "      \n",
        "      async function createDom() {\n",
        "        if (div !== null) {\n",
        "          return stream;\n",
        "        }\n",
        "\n",
        "        div = document.createElement('div');\n",
        "        div.style.border = '2px solid black';\n",
        "        div.style.padding = '3px';\n",
        "        div.style.width = '100%';\n",
        "        div.style.maxWidth = '600px';\n",
        "        document.body.appendChild(div);\n",
        "        \n",
        "        const modelOut = document.createElement('div');\n",
        "        modelOut.innerHTML = \"<span>Status:</span>\";\n",
        "        labelElement = document.createElement('span');\n",
        "        labelElement.innerText = 'No data';\n",
        "        labelElement.style.fontWeight = 'bold';\n",
        "        modelOut.appendChild(labelElement);\n",
        "        div.appendChild(modelOut);\n",
        "            \n",
        "        video = document.createElement('video');\n",
        "        video.style.display = 'block';\n",
        "        video.width = div.clientWidth - 6;\n",
        "        video.setAttribute('playsinline', '');\n",
        "        video.onclick = () => { shutdown = true; };\n",
        "        stream = await navigator.mediaDevices.getUserMedia(\n",
        "            {video: { facingMode: \"environment\"}});\n",
        "        div.appendChild(video);\n",
        "\n",
        "        imgElement = document.createElement('img');\n",
        "        imgElement.style.position = 'absolute';\n",
        "        imgElement.style.zIndex = 1;\n",
        "        imgElement.onclick = () => { shutdown = true; };\n",
        "        div.appendChild(imgElement);\n",
        "        \n",
        "        const instruction = document.createElement('div');\n",
        "        instruction.innerHTML = \n",
        "            '<span style=\"color: red; font-weight: bold;\">' +\n",
        "            'When finished, click here or on the video to stop this demo</span>';\n",
        "        div.appendChild(instruction);\n",
        "        instruction.onclick = () => { shutdown = true; };\n",
        "        \n",
        "        video.srcObject = stream;\n",
        "        await video.play();\n",
        "\n",
        "        captureCanvas = document.createElement('canvas');\n",
        "        captureCanvas.width = 640; //video.videoWidth;\n",
        "        captureCanvas.height = 480; //video.videoHeight;\n",
        "        window.requestAnimationFrame(onAnimationFrame);\n",
        "        \n",
        "        return stream;\n",
        "      }\n",
        "      async function stream_frame(label, imgData) {\n",
        "        if (shutdown) {\n",
        "          removeDom();\n",
        "          shutdown = false;\n",
        "          return '';\n",
        "        }\n",
        "\n",
        "        var preCreate = Date.now();\n",
        "        stream = await createDom();\n",
        "        \n",
        "        var preShow = Date.now();\n",
        "        if (label != \"\") {\n",
        "          labelElement.innerHTML = label;\n",
        "        }\n",
        "              \n",
        "        if (imgData != \"\") {\n",
        "          var videoRect = video.getClientRects()[0];\n",
        "          imgElement.style.top = videoRect.top + \"px\";\n",
        "          imgElement.style.left = videoRect.left + \"px\";\n",
        "          imgElement.style.width = videoRect.width + \"px\";\n",
        "          imgElement.style.height = videoRect.height + \"px\";\n",
        "          imgElement.src = imgData;\n",
        "        }\n",
        "        \n",
        "        var preCapture = Date.now();\n",
        "        var result = await new Promise(function(resolve, reject) {\n",
        "          pendingResolve = resolve;\n",
        "        });\n",
        "        shutdown = false;\n",
        "        \n",
        "        return {'create': preShow - preCreate, \n",
        "                'show': preCapture - preShow, \n",
        "                'capture': Date.now() - preCapture,\n",
        "                'img': result};\n",
        "      }\n",
        "      ''')\n",
        "\n",
        "    display(js)\n",
        "    \n",
        "  def video_frame(self,label, bbox):\n",
        "    data = eval_js('stream_frame(\"{}\", \"{}\")'.format(label, bbox))\n",
        "    return data\n",
        "\n",
        "  def get_encodings(self):\n",
        "    encode_list = []\n",
        "    for img in self.images:\n",
        "      img = cv2.cvtColor(img, cv2.COLOR_BGR2RGB)\n",
        "      encode = face_recognition.face_encodings(img)[0]\n",
        "      encode_list.append(encode)\n",
        "\n",
        "    return encode_list\n",
        "\n",
        "  def start_recognising(self):\n",
        "    # start streaming video from webcam\n",
        "    self.video_stream()\n",
        "    # label for video\n",
        "    label_html = 'Capturing...'\n",
        "    # initialze bounding box to empty\n",
        "    bbox = ''\n",
        "    count = 0 \n",
        "    while True:\n",
        "        js_reply = self.video_frame(label_html, bbox)\n",
        "        if not js_reply:\n",
        "            break\n",
        "\n",
        "        # convert JS response to OpenCV Image\n",
        "        web_img = self.js_to_image(js_reply[\"img\"])\n",
        "\n",
        "        # create transparent overlay for bounding box\n",
        "        bbox_array = np.zeros([480,640,4], dtype=np.uint8)\n",
        "\n",
        "        # grayscale image for face detection\n",
        "        # web_img = cv2.imread(img)\n",
        "        scale_img = cv2.resize(web_img, (0,0), None, 0.25, 0.25)\n",
        "        scale_img = cv2.cvtColor(scale_img, cv2.COLOR_BGR2RGB)\n",
        "\n",
        "        facesCurFrame = face_recognition.face_locations(scale_img)\n",
        "        encodesCurframe = face_recognition.face_encodings(scale_img, facesCurFrame)\n",
        "\n",
        "        if len(facesCurFrame) == 0:\n",
        "          print('No face Detected')\n",
        "\n",
        "        for encodesCurface, faceloc in zip(encodesCurframe, facesCurFrame):\n",
        "          matches = face_recognition.compare_faces(self.get_encodings(), encodesCurface, tolerance= 0.5)\n",
        "          faceDis = face_recognition.face_distance(encodeList_known, encodesCurface)\n",
        "          matchIndex = np.argmin(faceDis)\n",
        "\n",
        "          if matches[matchIndex]:\n",
        "            person_name = self.names[matchIndex].upper()\n",
        "            # print(person_name)\n",
        "\n",
        "            (top, right, bottom, left) = faceloc\n",
        "            top, right, bottom, left =  top * 4, right * 4, bottom * 4, left * 4\n",
        "            bbox_array = cv2.rectangle(bbox_array,(left,top),(right,bottom),(0, 255,0),2)\n",
        "            cv2.rectangle(bbox_array, (left, top), (right, bottom), (0, 255, 0), 2)\n",
        "            cv2.rectangle(bbox_array, (left, bottom + 35), (right, bottom), (0, 255, 0), cv2.FILLED)\n",
        "            cv2.putText(bbox_array, person_name, (left + 6, bottom + 12), cv2.FONT_HERSHEY_COMPLEX, 0.5, (255,255,255), 2)\n",
        "\n",
        "            # cv2_imshow(web_img)\n",
        "\n",
        "          else:\n",
        "            \n",
        "            (top, right, bottom, left) = faceloc\n",
        "            top, right, bottom, left =  top * 4, right * 4, bottom * 4, left * 4\n",
        "            cv2.rectangle(bbox_array, (left, top), (right, bottom), (0, 255, 0), 2)\n",
        "            cv2.rectangle(bbox_array, (left, bottom + 35), (right, bottom), (0, 255, 0), cv2.FILLED)\n",
        "            cv2.putText(bbox_array, 'Unknown Face', (left + 6, bottom + 15), cv2.FONT_HERSHEY_PLAIN, 1.8, (255,255,255), 2)\n",
        "\n",
        "            # cv2_imshow(web_img)\n",
        "\n",
        "        bbox_array[:,:,3] = (bbox_array.max(axis = 2) > 0 ).astype(int) * 255\n",
        "        # convert overlay of bbox into bytes\n",
        "        bbox_bytes = self.bbox_to_bytes(bbox_array)\n",
        "        # update bbox so next frame gets new overlay\n",
        "        bbox = bbox_bytes\n",
        "\n",
        "  def start_detecting_drowsiness(self):\n",
        "      # start streaming video from webcam\n",
        "      self.video_stream()\n",
        "      # label for video\n",
        "      label_html = 'Capturing...'\n",
        "      # initialze bounding box to empty\n",
        "      bbox = ''\n",
        "      count = 0 \n",
        "      while True:\n",
        "          js_reply = self.video_frame(label_html, bbox)\n",
        "          if not js_reply:\n",
        "              break\n",
        "\n",
        "          # convert JS response to OpenCV Image\n",
        "          web_img = self.js_to_image(js_reply[\"img\"])\n",
        "\n",
        "          # create transparent overlay for bounding box\n",
        "          bbox_array = np.zeros([480,640,4], dtype=np.uint8)\n",
        "          eyeloc = self.eye_detector(web_img)\n",
        "          if len(eyeloc) == 0:\n",
        "             print('No eyes detected')\n",
        "          \n",
        "          # resize\n",
        "          else:\n",
        "            eye = self.crop_eyes(web_img)\n",
        "            eye = cv2.resize(eye, (224,224))\n",
        "            eye = np.expand_dims(eye, axis = 0)\n",
        "            eye = eye/255.0\n",
        "\n",
        "            prediction = model.predict(eye)\n",
        "            if prediction > 0.5:\n",
        "              status = 'Open eyes'\n",
        "            else:\n",
        "              status = 'Closed eyes'\n",
        "\n",
        "            for x,y,w,h in eyeloc:\n",
        "                bbox_array = cv2.rectangle(bbox_array,(x,y),(x+w, y+h),(0, 255,0),2)\n",
        "                cv2.rectangle(bbox_array, (x, y), (x+w, y+h), (0, 255, 0), 2)\n",
        "                cv2.putText(bbox_array, status, (300,30), cv2.FONT_HERSHEY_SIMPLEX, 0.7, (0, 0, 255), 2 )\n",
        "\n",
        "\n",
        "\n",
        "\n",
        "            # grayscale image for face detection\n",
        "            # web_img = cv2.imread(img)\n",
        "        \n",
        "            \n",
        "          bbox_array[:,:,3] = (bbox_array.max(axis = 2) > 0 ).astype(int) * 255\n",
        "          # convert overlay of bbox into bytes\n",
        "          bbox_bytes = self.bbox_to_bytes(bbox_array)\n",
        "          # update bbox so next frame gets new overlay\n",
        "          bbox = bbox_bytes\n",
        "\n",
        "\n",
        "          \n",
        "\n",
        "\n",
        "              # cv2.rectangle(bbox_array, (left, top), (right, bottom), (0, 255, 0), 2)\n",
        "              # cv2.rectangle(bbox_array, (left, bottom + 35), (right, bottom), (0, 255, 0), cv2.FILLED)\n",
        "              # cv2.putText(bbox_array, person_name, (left + 6, bottom + 12), cv2.FONT_HERSHEY_COMPLEX, 0.5, (255,255,255), 2)\n",
        "\n",
        "    \n",
        "\n",
        "\n",
        "  \n",
        "  \n"
      ],
      "execution_count": null,
      "outputs": []
    },
    {
      "cell_type": "code",
      "metadata": {
        "id": "wAQ60yVjNH1r"
      },
      "source": [
        "ob = face_identifier('drive/MyDrive/Attendence system and drowsiness alert/KnownFaces',model )"
      ],
      "execution_count": null,
      "outputs": []
    },
    {
      "cell_type": "code",
      "metadata": {
        "colab": {
          "base_uri": "https://localhost:8080/",
          "height": 17
        },
        "id": "5yBmkEOONno7",
        "outputId": "2d9a56a8-8585-4899-fa43-7883497a76a0"
      },
      "source": [
        "ob.start_detecting_drowsiness()"
      ],
      "execution_count": null,
      "outputs": [
        {
          "output_type": "display_data",
          "data": {
            "application/javascript": [
              "\n",
              "      var video;\n",
              "      var div = null;\n",
              "      var stream;\n",
              "      var captureCanvas;\n",
              "      var imgElement;\n",
              "      var labelElement;\n",
              "      \n",
              "      var pendingResolve = null;\n",
              "      var shutdown = false;\n",
              "      \n",
              "      function removeDom() {\n",
              "        stream.getVideoTracks()[0].stop();\n",
              "        video.remove();\n",
              "        div.remove();\n",
              "        video = null;\n",
              "        div = null;\n",
              "        stream = null;\n",
              "        imgElement = null;\n",
              "        captureCanvas = null;\n",
              "        labelElement = null;\n",
              "      }\n",
              "      \n",
              "      function onAnimationFrame() {\n",
              "        if (!shutdown) {\n",
              "          window.requestAnimationFrame(onAnimationFrame);\n",
              "        }\n",
              "        if (pendingResolve) {\n",
              "          var result = \"\";\n",
              "          if (!shutdown) {\n",
              "            captureCanvas.getContext('2d').drawImage(video, 0, 0, 640, 480);\n",
              "            result = captureCanvas.toDataURL('image/jpeg', 0.8)\n",
              "          }\n",
              "          var lp = pendingResolve;\n",
              "          pendingResolve = null;\n",
              "          lp(result);\n",
              "        }\n",
              "      }\n",
              "      \n",
              "      async function createDom() {\n",
              "        if (div !== null) {\n",
              "          return stream;\n",
              "        }\n",
              "\n",
              "        div = document.createElement('div');\n",
              "        div.style.border = '2px solid black';\n",
              "        div.style.padding = '3px';\n",
              "        div.style.width = '100%';\n",
              "        div.style.maxWidth = '600px';\n",
              "        document.body.appendChild(div);\n",
              "        \n",
              "        const modelOut = document.createElement('div');\n",
              "        modelOut.innerHTML = \"<span>Status:</span>\";\n",
              "        labelElement = document.createElement('span');\n",
              "        labelElement.innerText = 'No data';\n",
              "        labelElement.style.fontWeight = 'bold';\n",
              "        modelOut.appendChild(labelElement);\n",
              "        div.appendChild(modelOut);\n",
              "            \n",
              "        video = document.createElement('video');\n",
              "        video.style.display = 'block';\n",
              "        video.width = div.clientWidth - 6;\n",
              "        video.setAttribute('playsinline', '');\n",
              "        video.onclick = () => { shutdown = true; };\n",
              "        stream = await navigator.mediaDevices.getUserMedia(\n",
              "            {video: { facingMode: \"environment\"}});\n",
              "        div.appendChild(video);\n",
              "\n",
              "        imgElement = document.createElement('img');\n",
              "        imgElement.style.position = 'absolute';\n",
              "        imgElement.style.zIndex = 1;\n",
              "        imgElement.onclick = () => { shutdown = true; };\n",
              "        div.appendChild(imgElement);\n",
              "        \n",
              "        const instruction = document.createElement('div');\n",
              "        instruction.innerHTML = \n",
              "            '<span style=\"color: red; font-weight: bold;\">' +\n",
              "            'When finished, click here or on the video to stop this demo</span>';\n",
              "        div.appendChild(instruction);\n",
              "        instruction.onclick = () => { shutdown = true; };\n",
              "        \n",
              "        video.srcObject = stream;\n",
              "        await video.play();\n",
              "\n",
              "        captureCanvas = document.createElement('canvas');\n",
              "        captureCanvas.width = 640; //video.videoWidth;\n",
              "        captureCanvas.height = 480; //video.videoHeight;\n",
              "        window.requestAnimationFrame(onAnimationFrame);\n",
              "        \n",
              "        return stream;\n",
              "      }\n",
              "      async function stream_frame(label, imgData) {\n",
              "        if (shutdown) {\n",
              "          removeDom();\n",
              "          shutdown = false;\n",
              "          return '';\n",
              "        }\n",
              "\n",
              "        var preCreate = Date.now();\n",
              "        stream = await createDom();\n",
              "        \n",
              "        var preShow = Date.now();\n",
              "        if (label != \"\") {\n",
              "          labelElement.innerHTML = label;\n",
              "        }\n",
              "              \n",
              "        if (imgData != \"\") {\n",
              "          var videoRect = video.getClientRects()[0];\n",
              "          imgElement.style.top = videoRect.top + \"px\";\n",
              "          imgElement.style.left = videoRect.left + \"px\";\n",
              "          imgElement.style.width = videoRect.width + \"px\";\n",
              "          imgElement.style.height = videoRect.height + \"px\";\n",
              "          imgElement.src = imgData;\n",
              "        }\n",
              "        \n",
              "        var preCapture = Date.now();\n",
              "        var result = await new Promise(function(resolve, reject) {\n",
              "          pendingResolve = resolve;\n",
              "        });\n",
              "        shutdown = false;\n",
              "        \n",
              "        return {'create': preShow - preCreate, \n",
              "                'show': preCapture - preShow, \n",
              "                'capture': Date.now() - preCapture,\n",
              "                'img': result};\n",
              "      }\n",
              "      "
            ],
            "text/plain": [
              "<IPython.core.display.Javascript object>"
            ]
          },
          "metadata": {
            "tags": []
          }
        }
      ]
    },
    {
      "cell_type": "code",
      "metadata": {
        "id": "Cou3dYW0k1nq"
      },
      "source": [
        "eyes_cascade = cv2.CascadeClassifier('/content/drive/MyDrive/Attendence system and drowsiness alert/haarcascade_eye.xml')\n",
        "  img = cv2.imread(image_path)\n",
        "  gray = cv2.cvtColor(img, cv2.COLOR_BGR2GRAY)\n",
        "  eyes = eyes_cascade.detectMultiScale(gray, 1.1, 4)\n",
        "  \n",
        "  if len(eyes) == 0:\n",
        "    print('No eyes detected')\n",
        "  else :\n",
        "    for x,y,w,h in enumerate(eyes):\n",
        "      cv2.rectangle(img,(x,y),(x+w,y+h),(0,255,0),2)\n",
        "      roigray = gray[y:y+h, x:x+w]\n",
        "      roicolor = img[y:y+h, x:x+w]\n",
        "      # cv2.imwrite(str(i) + '.jpg', img[y:y+h,x:x+w])\n",
        "\n",
        "  plt.grid(None)   \n",
        "  plt.xticks([])\n",
        "  plt.yticks([])\n",
        "  imgplot = plt.imshow(img[:,:,[2,1,0]])"
      ],
      "execution_count": null,
      "outputs": []
    },
    {
      "cell_type": "code",
      "metadata": {
        "id": "dTAMHK_iC-zH"
      },
      "source": [
        "x,y,w,h = eye[0]"
      ],
      "execution_count": null,
      "outputs": []
    },
    {
      "cell_type": "code",
      "metadata": {
        "id": "nUSe7YIPC_d_"
      },
      "source": [
        "from imutils import face_utils\n",
        "from imutils.video import VideoStream\n",
        "import argparse\n",
        "import imutils\n",
        "import dlib"
      ],
      "execution_count": null,
      "outputs": []
    },
    {
      "cell_type": "code",
      "metadata": {
        "id": "s2K7Ki0CkBQG"
      },
      "source": [
        "def eye_detector(image):\n",
        "  img = cv2.imread(image)\n",
        "  gray = cv2.cvtColor(img, cv2.COLOR_BGR2GRAY)\n",
        "  detector = dlib.get_frontal_face_detector()\n",
        "  face = detector(gray,1)\n",
        "  predictor = dlib.shape_predictor('drive/MyDrive/Attendence system and drowsiness alert/shape_predictor_68_face_landmarks.dat')\n",
        "  shape = predictor(gray, face[0])\n",
        "  # for left eye\n",
        "  x1 = shape.part(36).x\n",
        "  x2 = shape.part(39).x\n",
        "  y1=shape.part(37).y \n",
        "  y2=shape.part(40).y\n",
        "\n",
        "  lefteye=img[y1:y2,x1:x2]\n",
        "  \n",
        "  # for right eye\n",
        "\n",
        "  a1 = shape.part(42).x\n",
        "  a2 = shape.part(45).x\n",
        "  b1 = shape.part(43).y\n",
        "  b2 = shape.part(47).y\n",
        "\n",
        "  righteye = img[b1:b2,a1:a2]\n",
        "  eye_loc = [(x1,x2,y1,y2), (a1,a2,b1,b2)]\n",
        "\n",
        "  return eye_loc, righteye\n",
        "\n"
      ],
      "execution_count": null,
      "outputs": []
    },
    {
      "cell_type": "code",
      "metadata": {
        "id": "77VMIaER3yGu"
      },
      "source": [
        ""
      ],
      "execution_count": null,
      "outputs": []
    }
  ]
}